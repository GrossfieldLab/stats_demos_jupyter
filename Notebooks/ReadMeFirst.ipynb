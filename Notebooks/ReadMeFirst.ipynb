{
 "cells": [
  {
   "cell_type": "markdown",
   "metadata": {},
   "source": [
    "# Using the Demos\n",
    "\n",
    "Welcome to the T32 Statistics Demos.  These demos are all written using Jupyter/Python which runs \"Notebooks\" in your web browser.  A notebook consists of \"cells\" containing text, Python code, or output.  \n",
    "\n",
    "If you look above, you will see a row consisting of buttons and pull-down menus.  The most important button is the play button.  Each time you press this button, you will step from cell to cell in the Notebook.  This may include executing code and generating output."
   ]
  },
  {
   "cell_type": "markdown",
   "metadata": {},
   "source": [
    "## Python Code\n",
    "\n",
    "Python code is represented by grey cells, like the one below.  Click on the \"run cell\" button, \n",
    "![right-facing triangle with line](images/jupyter_runcell_button.png \"Run Cell\")\n",
    "until you step through the cell and you see the \"Hello World\" output."
   ]
  },
  {
   "cell_type": "code",
   "execution_count": null,
   "metadata": {
    "collapsed": true
   },
   "outputs": [],
   "source": [
    "print 'Hello world'"
   ]
  },
  {
   "cell_type": "markdown",
   "metadata": {},
   "source": [
    "You can generally ignore the code in these cells, but you may still need to  \"play\" them in order to get the example output.  If you want to play _all_ cells with one press, look for the right-most button that looks like two downward arrows,\n",
    "![two downward arrow-heads](images/jupyter_runall_button.png \"Run All\")\n",
    "Clicking on this button will reset the notebook and run all cells."
   ]
  },
  {
   "cell_type": "markdown",
   "metadata": {},
   "source": [
    "Some cells can have interactive code in it.  When run, it may create a graph with slides, buttons, or other widgets you can use to interact with it.  Try the cell below..."
   ]
  },
  {
   "cell_type": "code",
   "execution_count": null,
   "metadata": {
    "collapsed": true
   },
   "outputs": [],
   "source": [
    "%matplotlib inline\n",
    "\n",
    "from __future__ import print_function\n",
    "from ipywidgets import interact, interactive, fixed, interact_manual\n",
    "import ipywidgets as widgets\n",
    "import matplotlib.pyplot as plt\n",
    "import numpy as np\n",
    "import math\n",
    "\n",
    "t = np.arange(0, 2*math.pi, 0.01)\n",
    "\n",
    "def showSinWave(frequency):\n",
    "    y = np.sin(frequency * t)\n",
    "    plt.plot(t,y)\n",
    "    plt.show()\n",
    "    \n",
    "interact(showSinWave, frequency=widgets.FloatSlider(min=1.0, max=20.0, step=0.1, value=2.0));"
   ]
  },
  {
   "cell_type": "markdown",
   "metadata": {},
   "source": [
    "You can also click on the small \"x\" above the graph to close the output.  This can save resources if the interactive graph does a lot of work."
   ]
  },
  {
   "cell_type": "markdown",
   "metadata": {},
   "source": [
    "## Workign Locally\n",
    "You can use the \"File\" pull-down menu to download a notebook to your computer.  You can then run it on your machine with your data, or make changes to the notebook and not lose them when you end your session."
   ]
  },
  {
   "cell_type": "code",
   "execution_count": null,
   "metadata": {
    "collapsed": true
   },
   "outputs": [],
   "source": []
  }
 ],
 "metadata": {
  "kernelspec": {
   "display_name": "Python 2",
   "language": "python",
   "name": "python2"
  },
  "language_info": {
   "codemirror_mode": {
    "name": "ipython",
    "version": 2
   },
   "file_extension": ".py",
   "mimetype": "text/x-python",
   "name": "python",
   "nbconvert_exporter": "python",
   "pygments_lexer": "ipython2",
   "version": "2.7.12"
  }
 },
 "nbformat": 4,
 "nbformat_minor": 2
}
