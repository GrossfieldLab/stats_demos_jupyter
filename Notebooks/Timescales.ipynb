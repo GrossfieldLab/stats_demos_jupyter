{
 "cells": [
  {
   "cell_type": "markdown",
   "metadata": {},
   "source": [
    "Title and intro text here"
   ]
  },
  {
   "cell_type": "code",
   "execution_count": null,
   "metadata": {
    "collapsed": true
   },
   "outputs": [],
   "source": [
    "%matplotlib inline\n",
    "\n",
    "from __future__ import print_function\n",
    "from ipywidgets import interact, interactive, fixed, interact_manual\n",
    "import ipywidgets as widgets\n",
    "import matplotlib.pyplot as plt\n",
    "import numpy as np\n"
   ]
  },
  {
   "cell_type": "markdown",
   "metadata": {},
   "source": [
    "Import the original time series and histogram it"
   ]
  },
  {
   "cell_type": "code",
   "execution_count": null,
   "metadata": {},
   "outputs": [],
   "source": [
    "all_data = np.loadtxt(\"double_well.asc\")\n",
    "all_histogram,bin_edges = np.histogram(all_data, 235, [-2.35,2.35], density=True)\n",
    "time = np.arange(len(all_data))"
   ]
  },
  {
   "cell_type": "markdown",
   "metadata": {},
   "source": [
    "Here's the time series "
   ]
  },
  {
   "cell_type": "code",
   "execution_count": null,
   "metadata": {},
   "outputs": [],
   "source": [
    "plt.plot(time, all_data, \"-k\", linewidth=0.1)\n",
    "plt.figtext(0.5, 0.0, \"Time\")\n",
    "\n",
    "plt.show()\n"
   ]
  },
  {
   "cell_type": "markdown",
   "metadata": {},
   "source": [
    "Here's the histogram"
   ]
  },
  {
   "cell_type": "code",
   "execution_count": null,
   "metadata": {},
   "outputs": [],
   "source": [
    "plt.plot(bin_edges[:-1], all_histogram, \"-k\")\n",
    "plt.figtext(0.5, 0.0, \"Value\")\n",
    "plt.figtext(-0.2, 0.5, \"Prob Density\")\n",
    "plt.show()\n"
   ]
  },
  {
   "cell_type": "raw",
   "metadata": {},
   "source": [
    "Here's what happens to the time series and histogram when you downsample"
   ]
  },
  {
   "cell_type": "code",
   "execution_count": null,
   "metadata": {},
   "outputs": [],
   "source": [
    "def downsample_both(downsample_factor):\n",
    "    reshaped = np.reshape(all_data, (len(all_data)/downsample_factor,\n",
    "                                    downsample_factor))\n",
    "    time_reshaped = np.reshape(time, (len(all_data)/downsample_factor,\n",
    "                                    downsample_factor))\n",
    "    downsampled = reshaped[:,0]\n",
    "    time_downsampled = time_reshaped[:,0]\n",
    "    down_histogram,bin_edges = np.histogram(downsampled, 235, [-2.35,2.35], density=True)\n",
    "    plt.plot(time_downsampled, downsampled, \"-r\")\n",
    "\n",
    "    plt.figtext(0.5, 0.0, \"Time\")\n",
    "    plt.figtext(-0.1, 0.5, \"Value\")\n",
    "    plt.show()\n",
    "    plt.plot(bin_edges[:-1], down_histogram, \"-k\")\n",
    "    plt.figtext(0.5, 0.0, \"Value\")\n",
    "    plt.figtext(-0.1, 0.5, \"Prob Density\")\n",
    "    plt.show()\n",
    "    "
   ]
  },
  {
   "cell_type": "code",
   "execution_count": null,
   "metadata": {},
   "outputs": [],
   "source": [
    "downscale_options = (1,100,1000,2500, 5000,10000, 50000, 100000)\n",
    "interact(downsample_both, downsample_factor=widgets.Dropdown(options=downscale_options, description=\"Downsample Factor\" ) );"
   ]
  },
  {
   "cell_type": "raw",
   "metadata": {},
   "source": [
    "Here's what happens when you change the averaging time instead"
   ]
  },
  {
   "cell_type": "code",
   "execution_count": null,
   "metadata": {},
   "outputs": [],
   "source": [
    "def average_both(average_factor):\n",
    "    reshaped = np.reshape(all_data, (len(all_data)/average_factor,\n",
    "                                    average_factor))\n",
    "    time_reshaped = np.reshape(time, (len(all_data)/average_factor,\n",
    "                                    average_factor))\n",
    "    averaged = np.add.reduce(reshaped, 1) / average_factor\n",
    "    ave_histogram,bin_edges = np.histogram(averaged, 235, [-2.35,2.35], density=True)\n",
    "    time_downsampled = time_reshaped[:,0]\n",
    "    plt.plot(time_downsampled, averaged, \"-r\")\n",
    "\n",
    "    plt.figtext(0.5, 0.0, \"Time\")\n",
    "    plt.figtext(-0.1, 0.5, \"Value\")\n",
    "    plt.show()\n",
    "    plt.plot(bin_edges[:-1], all_histogram, \"-k\", bin_edges[:-1], ave_histogram, \"-r\")\n",
    "    plt.figtext(0.5, 0.0, \"Value\")\n",
    "    plt.figtext(-0.1, 0.5, \"Prob Density\")\n",
    "    plt.show()"
   ]
  },
  {
   "cell_type": "code",
   "execution_count": null,
   "metadata": {},
   "outputs": [],
   "source": [
    "average_options = (1,100,1000,2500, 5000,10000, 50000, 100000)\n",
    "interact(average_both, average_factor=widgets.Dropdown(options=downscale_options, description=\"Downsample Factor\" ) );\n"
   ]
  },
  {
   "cell_type": "code",
   "execution_count": null,
   "metadata": {
    "collapsed": true
   },
   "outputs": [],
   "source": []
  }
 ],
 "metadata": {
  "kernelspec": {
   "display_name": "Python 2",
   "language": "python",
   "name": "python2"
  },
  "language_info": {
   "codemirror_mode": {
    "name": "ipython",
    "version": 2
   },
   "file_extension": ".py",
   "mimetype": "text/x-python",
   "name": "python",
   "nbconvert_exporter": "python",
   "pygments_lexer": "ipython2",
   "version": "2.7.13"
  }
 },
 "nbformat": 4,
 "nbformat_minor": 2
}
